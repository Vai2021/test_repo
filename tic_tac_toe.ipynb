{
 "cells": [
  {
   "cell_type": "code",
   "execution_count": 18,
   "metadata": {},
   "outputs": [],
   "source": [
    "from IPython.display import clear_output\n",
    "\n",
    "def display_board(board):\n",
    "        \n",
    "        clear_output()\n",
    "        print(board[7]+'|'+ board[8]+'|'+ board[9])\n",
    "        print('- - -')\n",
    "        print(board[4]+'|'+ board[5]+'|'+ board[6])\n",
    "        print('- - -')\n",
    "        print(board[1]+'|'+ board[2]+'|'+ board[3])\n",
    "        #print('_ _ _')\n"
   ]
  },
  {
   "cell_type": "code",
   "execution_count": null,
   "metadata": {},
   "outputs": [],
   "source": []
  },
  {
   "cell_type": "code",
   "execution_count": null,
   "metadata": {},
   "outputs": [],
   "source": []
  },
  {
   "cell_type": "code",
   "execution_count": 19,
   "metadata": {},
   "outputs": [
    {
     "name": "stdout",
     "output_type": "stream",
     "text": [
      "x|o|x\n",
      "- - -\n",
      "o|x|o\n",
      "- - -\n",
      "x|o|x\n"
     ]
    }
   ],
   "source": [
    "test_board=['#','x','o','x','o','x','o','x','o','x']\n",
    "#test_board =[' ']*10\n",
    "display_board(test_board)\n"
   ]
  },
  {
   "cell_type": "code",
   "execution_count": null,
   "metadata": {},
   "outputs": [],
   "source": []
  },
  {
   "cell_type": "code",
   "execution_count": null,
   "metadata": {},
   "outputs": [],
   "source": []
  },
  {
   "cell_type": "code",
   "execution_count": null,
   "metadata": {},
   "outputs": [],
   "source": []
  },
  {
   "cell_type": "code",
   "execution_count": 1,
   "metadata": {},
   "outputs": [],
   "source": [
    "def player_input():\n",
    "    marker =' '\n",
    "    \n",
    "    while not(marker == 'x'or marker == 'o'):\n",
    "        marker = input(\"Choose player1 marker x or o :\")\n",
    "        \n",
    "        \n",
    "    if marker == 'x':\n",
    "            return('x','o')\n",
    "    else:\n",
    "            return ('o','x')\n",
    "            \n",
    "        \n",
    "    #return(player1,player2)\n",
    "            \n",
    "        "
   ]
  },
  {
   "cell_type": "code",
   "execution_count": 3,
   "metadata": {},
   "outputs": [
    {
     "name": "stdout",
     "output_type": "stream",
     "text": [
      "Choose player1 marker x or o :o\n"
     ]
    },
    {
     "data": {
      "text/plain": [
       "('o', 'x')"
      ]
     },
     "execution_count": 3,
     "metadata": {},
     "output_type": "execute_result"
    }
   ],
   "source": [
    "player_input()"
   ]
  },
  {
   "cell_type": "code",
   "execution_count": 4,
   "metadata": {},
   "outputs": [],
   "source": [
    "def place_marker(board,marker,position):\n",
    "    board[position]= marker"
   ]
  },
  {
   "cell_type": "code",
   "execution_count": 20,
   "metadata": {},
   "outputs": [],
   "source": [
    "def win_chcek(board,mark):\n",
    "    \n",
    "    #row check\n",
    "    return((board[1]== board[2]== board[3]== mark) or\n",
    "    (board[4]==board[5]==board[6]== mark)or\n",
    "    (board[1]==board[2]==board[3]== mark)or\n",
    "    \n",
    "    #column check\n",
    "    (board[1]==board[4]==board[7]== mark)or\n",
    "    (board[2]==board[5]==board[8]== mark)or\n",
    "    (board[3]==board[6]==board[9]== mark)or\n",
    "    \n",
    "    #diagonal check\n",
    "    \n",
    "    (board[3]==board[5]==board[7]== mark)or\n",
    "    (board[1]==board[5]==board[9]== mark))\n",
    "\n",
    "\n",
    "\n",
    "\n",
    "    "
   ]
  },
  {
   "cell_type": "code",
   "execution_count": null,
   "metadata": {},
   "outputs": [],
   "source": []
  },
  {
   "cell_type": "code",
   "execution_count": 26,
   "metadata": {},
   "outputs": [],
   "source": [
    "import random\n",
    "\n",
    "def choose_first():\n",
    "    \n",
    "    #flip= random.randint(1,0)\n",
    "    \n",
    "    \n",
    "    if random.randint(0,1)== 0:\n",
    "        return 'player2'\n",
    "    else:\n",
    "        return 'player1'"
   ]
  },
  {
   "cell_type": "code",
   "execution_count": 27,
   "metadata": {},
   "outputs": [],
   "source": [
    "def space_check(board,position):\n",
    "    \n",
    "    return board[position] == ' '"
   ]
  },
  {
   "cell_type": "code",
   "execution_count": 42,
   "metadata": {},
   "outputs": [],
   "source": [
    "def board_full_check(board):\n",
    "    \n",
    "    for i in range(1,10):\n",
    "        if space_check(board,i):\n",
    "            return False\n",
    "        \n",
    "        #will return true if board is full\n",
    "        \n",
    "    return True"
   ]
  },
  {
   "cell_type": "code",
   "execution_count": null,
   "metadata": {},
   "outputs": [],
   "source": []
  },
  {
   "cell_type": "code",
   "execution_count": 38,
   "metadata": {},
   "outputs": [],
   "source": [
    "def player_position_choice(board):\n",
    "    \n",
    "    \n",
    "    position = 0\n",
    "    \n",
    "    while position not in [1,2,3,4,5,6,7,8,9] or not space_check(board,position):\n",
    "        position = int(input('choose position from 1 to 9 :'))\n",
    "        \n",
    "    return position"
   ]
  },
  {
   "cell_type": "code",
   "execution_count": null,
   "metadata": {},
   "outputs": [],
   "source": []
  },
  {
   "cell_type": "code",
   "execution_count": null,
   "metadata": {},
   "outputs": [],
   "source": []
  },
  {
   "cell_type": "code",
   "execution_count": 40,
   "metadata": {},
   "outputs": [],
   "source": [
    "def replay():\n",
    "    \n",
    "    choice = input('Play again? Enter Yes or No')\n",
    "    \n",
    "    return choice == 'yes'"
   ]
  },
  {
   "cell_type": "code",
   "execution_count": null,
   "metadata": {},
   "outputs": [],
   "source": []
  },
  {
   "cell_type": "code",
   "execution_count": 47,
   "metadata": {},
   "outputs": [
    {
     "name": "stdout",
     "output_type": "stream",
     "text": [
      "x| | \n",
      "- - -\n",
      "o|x|o\n",
      "- - -\n",
      "x|o|x\n",
      "Player1 has WON the game!!!!\n",
      "Play again? Enter Yes or Nono\n"
     ]
    }
   ],
   "source": [
    "print('WELCOME TO GAME')\n",
    "\n",
    "while True:\n",
    "            the_board = [' ']*10\n",
    "            player1_marker ,player2_marker = player_input()\n",
    "            turn = choose_first()\n",
    "            print(turn + ' will play first')\n",
    "            \n",
    "            \n",
    "            play_game = input('Ready to play?? Enter yes or no')\n",
    "            \n",
    "            if play_game == 'yes':\n",
    "                game_on= True\n",
    "            else:\n",
    "                game_on =False\n",
    "                \n",
    "                \n",
    "            while game_on:\n",
    "                if turn == 'player1':\n",
    "                    \n",
    "                    display_board(the_board)\n",
    "                    position = player_position_choice(the_board)\n",
    "                    place_marker(the_board,player1_marker,position)\n",
    "                    \n",
    "                    if win_chcek(the_board,player1_marker):\n",
    "                        display_board(the_board)\n",
    "                        print('Player1 has WON the game!!!!')\n",
    "                        game_on= False    #braking of while loop og game on\n",
    "                    else:\n",
    "                        if board_full_check(the_board):\n",
    "                            display_board(the_board)\n",
    "                            print('The game is Tie!!')\n",
    "                            break\n",
    "                        else:\n",
    "                                turn = 'player2'\n",
    "                            \n",
    "                            \n",
    "                            \n",
    "                else:\n",
    "                    \n",
    "                    \n",
    "                    \n",
    "                    display_board(the_board)\n",
    "                    position = player_position_choice(the_board)\n",
    "                    place_marker(the_board,player2_marker,position)\n",
    "                    \n",
    "                    \n",
    "                    \n",
    "                    if win_chcek(the_board,player2_marker):\n",
    "                        display_board(the_board)\n",
    "                        print('player2 has WON the game!!')\n",
    "                        game_on = False\n",
    "                        \n",
    "                    else:\n",
    "                        if board_full_check(the_board):\n",
    "                            display_board(the_board)\n",
    "                            print('The game is Tie!!')\n",
    "                            break\n",
    "                        else:\n",
    "                            turn ='player1'\n",
    "                            \n",
    "                            \n",
    "                            \n",
    "                            \n",
    "                            \n",
    "            if not replay():\n",
    "                break\n",
    "\n",
    "    \n"
   ]
  },
  {
   "cell_type": "code",
   "execution_count": null,
   "metadata": {},
   "outputs": [],
   "source": []
  },
  {
   "cell_type": "code",
   "execution_count": null,
   "metadata": {},
   "outputs": [],
   "source": []
  },
  {
   "cell_type": "code",
   "execution_count": null,
   "metadata": {},
   "outputs": [],
   "source": []
  },
  {
   "cell_type": "code",
   "execution_count": null,
   "metadata": {},
   "outputs": [],
   "source": []
  },
  {
   "cell_type": "code",
   "execution_count": null,
   "metadata": {},
   "outputs": [],
   "source": []
  },
  {
   "cell_type": "code",
   "execution_count": null,
   "metadata": {},
   "outputs": [],
   "source": []
  },
  {
   "cell_type": "code",
   "execution_count": null,
   "metadata": {},
   "outputs": [],
   "source": []
  },
  {
   "cell_type": "code",
   "execution_count": null,
   "metadata": {},
   "outputs": [],
   "source": []
  },
  {
   "cell_type": "code",
   "execution_count": null,
   "metadata": {},
   "outputs": [],
   "source": []
  },
  {
   "cell_type": "code",
   "execution_count": null,
   "metadata": {},
   "outputs": [],
   "source": []
  },
  {
   "cell_type": "code",
   "execution_count": null,
   "metadata": {},
   "outputs": [],
   "source": []
  },
  {
   "cell_type": "code",
   "execution_count": null,
   "metadata": {},
   "outputs": [],
   "source": []
  },
  {
   "cell_type": "code",
   "execution_count": null,
   "metadata": {},
   "outputs": [],
   "source": []
  },
  {
   "cell_type": "code",
   "execution_count": null,
   "metadata": {},
   "outputs": [],
   "source": []
  },
  {
   "cell_type": "code",
   "execution_count": null,
   "metadata": {},
   "outputs": [],
   "source": []
  },
  {
   "cell_type": "code",
   "execution_count": null,
   "metadata": {},
   "outputs": [],
   "source": []
  },
  {
   "cell_type": "code",
   "execution_count": null,
   "metadata": {},
   "outputs": [],
   "source": []
  },
  {
   "cell_type": "code",
   "execution_count": null,
   "metadata": {},
   "outputs": [],
   "source": []
  }
 ],
 "metadata": {
  "kernelspec": {
   "display_name": "Python 3",
   "language": "python",
   "name": "python3"
  },
  "language_info": {
   "codemirror_mode": {
    "name": "ipython",
    "version": 3
   },
   "file_extension": ".py",
   "mimetype": "text/x-python",
   "name": "python",
   "nbconvert_exporter": "python",
   "pygments_lexer": "ipython3",
   "version": "3.8.5"
  }
 },
 "nbformat": 4,
 "nbformat_minor": 4
}
